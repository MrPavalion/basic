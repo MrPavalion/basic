{
  "nbformat": 4,
  "nbformat_minor": 0,
  "metadata": {
    "colab": {
      "name": "Crop_Prediction.ipynb",
      "provenance": [],
      "authorship_tag": "ABX9TyMVZtzOKFxCqg11VKXwUv9S",
      "include_colab_link": true
    },
    "kernelspec": {
      "name": "python3",
      "display_name": "Python 3"
    },
    "language_info": {
      "name": "python"
    }
  },
  "cells": [
    {
      "cell_type": "markdown",
      "metadata": {
        "id": "view-in-github",
        "colab_type": "text"
      },
      "source": [
        "<a href=\"https://colab.research.google.com/github/MrPavalion/ml-bootcamp/blob/kits/Crop_Prediction.ipynb\" target=\"_parent\"><img src=\"https://colab.research.google.com/assets/colab-badge.svg\" alt=\"Open In Colab\"/></a>"
      ]
    },
    {
      "cell_type": "code",
      "metadata": {
        "id": "CtupkLJObNGF"
      },
      "source": [
        "import pandas as pd\n",
        "data = pd.read_csv(\"crop.csv\")"
      ],
      "execution_count": 18,
      "outputs": []
    },
    {
      "cell_type": "code",
      "metadata": {
        "id": "uijHqaQTb5uJ"
      },
      "source": [
        "X =  data.iloc[:,0:-1].values\n",
        "Y =data.iloc[:,-1 ].values"
      ],
      "execution_count": 19,
      "outputs": []
    },
    {
      "cell_type": "code",
      "metadata": {
        "id": "CBwQ1Y67cboD"
      },
      "source": [
        "from sklearn.preprocessing import StandardScaler\n",
        "st = StandardScaler()\n",
        "X = st.fit_transform(X)"
      ],
      "execution_count": 20,
      "outputs": []
    },
    {
      "cell_type": "code",
      "metadata": {
        "colab": {
          "base_uri": "https://localhost:8080/"
        },
        "id": "kDXv0waTczLT",
        "outputId": "7c50591f-94fa-4db9-8272-814b91f46840"
      },
      "source": [
        "len(pd.unique(Y))"
      ],
      "execution_count": 23,
      "outputs": [
        {
          "output_type": "execute_result",
          "data": {
            "text/plain": [
              "22"
            ]
          },
          "metadata": {},
          "execution_count": 23
        }
      ]
    },
    {
      "cell_type": "code",
      "metadata": {
        "id": "pd4SqC53fdCw"
      },
      "source": [
        "k= pd.get_dummies(data.label)\n",
        "Y = k.values"
      ],
      "execution_count": 27,
      "outputs": []
    },
    {
      "cell_type": "code",
      "metadata": {
        "colab": {
          "base_uri": "https://localhost:8080/"
        },
        "id": "3WJmsW8ugSWN",
        "outputId": "fa2a589e-cf40-4a7b-80dc-6db36423a874"
      },
      "source": [
        "Y"
      ],
      "execution_count": 29,
      "outputs": [
        {
          "output_type": "execute_result",
          "data": {
            "text/plain": [
              "array([[0, 0, 0, ..., 0, 1, 0],\n",
              "       [0, 0, 0, ..., 0, 1, 0],\n",
              "       [0, 0, 0, ..., 0, 1, 0],\n",
              "       ...,\n",
              "       [0, 0, 0, ..., 0, 0, 0],\n",
              "       [0, 0, 0, ..., 0, 0, 0],\n",
              "       [0, 0, 0, ..., 0, 0, 0]], dtype=uint8)"
            ]
          },
          "metadata": {},
          "execution_count": 29
        }
      ]
    },
    {
      "cell_type": "code",
      "metadata": {
        "id": "R3J6a1CrhPCK"
      },
      "source": [
        "from sklearn.model_selection import train_test_split\n",
        "X_train,X_test,Y_train,Y_test = train_test_split(X,Y,test_size =0.2 )"
      ],
      "execution_count": 32,
      "outputs": []
    },
    {
      "cell_type": "code",
      "metadata": {
        "colab": {
          "base_uri": "https://localhost:8080/"
        },
        "id": "9sNWZslGh6EV",
        "outputId": "030f3af6-5d51-4442-ad22-09fcf140aa26"
      },
      "source": [
        "X_train"
      ],
      "execution_count": 34,
      "outputs": [
        {
          "output_type": "execute_result",
          "data": {
            "text/plain": [
              "array([[ 1.0958911 , -0.01099894, -0.1609334 , ...,  0.44637542,\n",
              "        -1.40005918,  2.93290718],\n",
              "       [ 0.41854848, -0.19293629, -0.23992793, ...,  0.13293314,\n",
              "         0.13322058,  1.3123692 ],\n",
              "       [ 1.77323373, -0.04132183, -0.57565467, ...,  0.17475944,\n",
              "        -0.45873834, -0.66216828],\n",
              "       ...,\n",
              "       [ 0.33726737, -0.19293629, -0.25967656, ...,  0.78953665,\n",
              "         1.24494142,  1.64551352],\n",
              "       [ 0.77076664, -0.31422786, -0.18068203, ...,  0.41457071,\n",
              "         0.76677211,  1.95375014],\n",
              "       [-0.63810601,  0.68642757,  0.68825778, ..., -2.54099452,\n",
              "        -0.23245662, -0.25197654]])"
            ]
          },
          "metadata": {},
          "execution_count": 34
        }
      ]
    },
    {
      "cell_type": "code",
      "metadata": {
        "id": "SU-A6DDxh-Vp"
      },
      "source": [
        ""
      ],
      "execution_count": 38,
      "outputs": []
    },
    {
      "cell_type": "code",
      "metadata": {
        "id": "WFdiZTgtiOZP"
      },
      "source": [
        "from sklearn.neighbors import KNeighborsClassifier\n",
        "classifer = KNeighborsClassifier(n_neighbors=5)\n"
      ],
      "execution_count": 42,
      "outputs": []
    },
    {
      "cell_type": "code",
      "metadata": {
        "colab": {
          "base_uri": "https://localhost:8080/"
        },
        "id": "da1RPzuljzv9",
        "outputId": "128152ef-9d35-4ee2-eb47-abf0e973de1d"
      },
      "source": [
        "classifer.fit(X_train,Y_train)"
      ],
      "execution_count": 44,
      "outputs": [
        {
          "output_type": "execute_result",
          "data": {
            "text/plain": [
              "KNeighborsClassifier(algorithm='auto', leaf_size=30, metric='minkowski',\n",
              "                     metric_params=None, n_jobs=None, n_neighbors=5, p=2,\n",
              "                     weights='uniform')"
            ]
          },
          "metadata": {},
          "execution_count": 44
        }
      ]
    },
    {
      "cell_type": "code",
      "metadata": {
        "id": "nCViB5U_kDRE"
      },
      "source": [
        "Y_pred = classifer.predict(X_test)"
      ],
      "execution_count": 47,
      "outputs": []
    },
    {
      "cell_type": "code",
      "metadata": {
        "colab": {
          "base_uri": "https://localhost:8080/"
        },
        "id": "RmqTSHe2kVr8",
        "outputId": "acc976e1-275e-4329-e822-85b651d9adfe"
      },
      "source": [
        "from sklearn.metrics import accuracy_score\n",
        "print(accuracy_score(Y_test,Y_pred))"
      ],
      "execution_count": 48,
      "outputs": [
        {
          "output_type": "stream",
          "name": "stdout",
          "text": [
            "0.9931818181818182\n"
          ]
        }
      ]
    }
  ]
}