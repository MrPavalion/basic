{
  "nbformat": 4,
  "nbformat_minor": 0,
  "metadata": {
    "colab": {
      "name": "Crop_Prediction.ipynb",
      "provenance": [],
      "authorship_tag": "ABX9TyPA+jUst6DdB96mqhw9EYTy",
      "include_colab_link": true
    },
    "kernelspec": {
      "name": "python3",
      "display_name": "Python 3"
    },
    "language_info": {
      "name": "python"
    },
    "accelerator": "GPU"
  },
  "cells": [
    {
      "cell_type": "markdown",
      "metadata": {
        "id": "view-in-github",
        "colab_type": "text"
      },
      "source": [
        "<a href=\"https://colab.research.google.com/github/MrPavalion/ml-bootcamp/blob/kits/Crop_Prediction.ipynb\" target=\"_parent\"><img src=\"https://colab.research.google.com/assets/colab-badge.svg\" alt=\"Open In Colab\"/></a>"
      ]
    },
    {
      "cell_type": "code",
      "metadata": {
        "id": "CtupkLJObNGF"
      },
      "source": [
        "import pandas as pd\n",
        "data = pd.read_csv(\"crop.csv\")"
      ],
      "execution_count": 56,
      "outputs": []
    },
    {
      "cell_type": "code",
      "metadata": {
        "id": "uijHqaQTb5uJ"
      },
      "source": [
        "X =  data.iloc[:,0:-1].values\n",
        "Y =data.iloc[:,-1 ].values"
      ],
      "execution_count": 57,
      "outputs": []
    },
    {
      "cell_type": "code",
      "metadata": {
        "colab": {
          "base_uri": "https://localhost:8080/"
        },
        "id": "kDXv0waTczLT",
        "outputId": "0af616e5-434a-4cf9-f7a7-14536d628767"
      },
      "source": [
        "len(pd.unique(Y))"
      ],
      "execution_count": 58,
      "outputs": [
        {
          "output_type": "execute_result",
          "data": {
            "text/plain": [
              "22"
            ]
          },
          "metadata": {},
          "execution_count": 58
        }
      ]
    },
    {
      "cell_type": "code",
      "metadata": {
        "colab": {
          "base_uri": "https://localhost:8080/"
        },
        "id": "pd4SqC53fdCw",
        "outputId": "3daec00d-dd5f-44c6-ffa9-71fea04083ce"
      },
      "source": [
        "k = pd.get_dummies(data.label)\n",
        "y = k.values\n",
        "y\n"
      ],
      "execution_count": 59,
      "outputs": [
        {
          "output_type": "execute_result",
          "data": {
            "text/plain": [
              "array([[0, 0, 0, ..., 0, 1, 0],\n",
              "       [0, 0, 0, ..., 0, 1, 0],\n",
              "       [0, 0, 0, ..., 0, 1, 0],\n",
              "       ...,\n",
              "       [0, 0, 0, ..., 0, 0, 0],\n",
              "       [0, 0, 0, ..., 0, 0, 0],\n",
              "       [0, 0, 0, ..., 0, 0, 0]], dtype=uint8)"
            ]
          },
          "metadata": {},
          "execution_count": 59
        }
      ]
    },
    {
      "cell_type": "code",
      "metadata": {
        "colab": {
          "base_uri": "https://localhost:8080/"
        },
        "id": "3WJmsW8ugSWN",
        "outputId": "8821f6d0-f955-4a3b-fef9-b2671d6076e9"
      },
      "source": [
        "from sklearn.preprocessing import StandardScaler\n",
        "scaler = StandardScaler()\n",
        "X = scaler.fit_transform(X)\n",
        "X\n"
      ],
      "execution_count": 60,
      "outputs": [
        {
          "output_type": "execute_result",
          "data": {
            "text/plain": [
              "array([[ 1.0687974 , -0.34455075, -0.1016875 , ...,  0.47266646,\n",
              "         0.04330173,  1.8103605 ],\n",
              "       [ 0.93332887,  0.14061552, -0.14118477, ...,  0.39705125,\n",
              "         0.73487256,  2.24205791],\n",
              "       [ 0.25598625,  0.04964684, -0.08193887, ...,  0.48695381,\n",
              "         1.77151047,  2.92106603],\n",
              "       ...,\n",
              "       [ 1.82742114, -0.61745677, -0.35841972, ..., -0.19123516,\n",
              "        -0.13812031,  1.27141766],\n",
              "       [ 1.80032743, -0.64777967, -0.27942519, ..., -0.86951801,\n",
              "         0.37390383,  0.43154519],\n",
              "       [ 1.44810927, -1.07230015, -0.35841972, ..., -0.49802006,\n",
              "         0.40109573,  0.68200518]])"
            ]
          },
          "metadata": {},
          "execution_count": 60
        }
      ]
    },
    {
      "cell_type": "code",
      "metadata": {
        "id": "R3J6a1CrhPCK"
      },
      "source": [
        "from sklearn.model_selection import train_test_split\n",
        "X_train, X_test, Y_train, Y_test = train_test_split(X, Y, test_size = 0.2)"
      ],
      "execution_count": 61,
      "outputs": []
    },
    {
      "cell_type": "code",
      "metadata": {
        "colab": {
          "base_uri": "https://localhost:8080/"
        },
        "id": "9sNWZslGh6EV",
        "outputId": "d984e38e-c5e5-42ce-cd92-a08a3747c573"
      },
      "source": [
        "X_train"
      ],
      "execution_count": 62,
      "outputs": [
        {
          "output_type": "execute_result",
          "data": {
            "text/plain": [
              "array([[-0.31298155,  0.32255287,  0.07605019, ...,  1.0402645 ,\n",
              "         0.27038777, -0.72390682],\n",
              "       [-1.1257927 , -0.13229051, -0.63490057, ..., -1.35300318,\n",
              "         1.54059986, -0.88104578],\n",
              "       [-0.80066824,  0.74707335, -0.57565467, ..., -0.21212362,\n",
              "         0.58236324, -0.61173873],\n",
              "       ...,\n",
              "       [ 0.87914146,  0.77739624,  0.13529608, ...,  0.53305339,\n",
              "        -1.16890167, -0.08730154],\n",
              "       [-0.44845008,  0.35287576, -0.02269297, ...,  0.99864802,\n",
              "         0.47080184,  1.60726108],\n",
              "       [ 1.31264074, -0.43551942, -0.59540331, ..., -0.14268498,\n",
              "        -0.46103211, -0.28414737]])"
            ]
          },
          "metadata": {},
          "execution_count": 62
        }
      ]
    },
    {
      "cell_type": "code",
      "metadata": {
        "colab": {
          "base_uri": "https://localhost:8080/"
        },
        "id": "nCViB5U_kDRE",
        "outputId": "eb649018-7992-487f-d493-17988a6343c7"
      },
      "source": [
        "from sklearn.neighbors import KNeighborsClassifier\n",
        "classifier = KNeighborsClassifier(n_neighbors = 5)\n",
        "classifier.fit(X_train, Y_train)\n",
        "Y_pred = classifier.predict(X_test)\n",
        "Y_pred"
      ],
      "execution_count": 63,
      "outputs": [
        {
          "output_type": "execute_result",
          "data": {
            "text/plain": [
              "array(['lentil', 'muskmelon', 'orange', 'apple', 'watermelon', 'jute',\n",
              "       'chickpea', 'kidneybeans', 'pomegranate', 'rice', 'grapes',\n",
              "       'cotton', 'maize', 'coconut', 'pigeonpeas', 'grapes', 'coffee',\n",
              "       'coffee', 'watermelon', 'jute', 'mothbeans', 'grapes', 'cotton',\n",
              "       'mango', 'banana', 'jute', 'mothbeans', 'blackgram', 'coffee',\n",
              "       'coconut', 'pomegranate', 'orange', 'pigeonpeas', 'pomegranate',\n",
              "       'chickpea', 'cotton', 'pigeonpeas', 'cotton', 'kidneybeans',\n",
              "       'lentil', 'pomegranate', 'mothbeans', 'lentil', 'chickpea',\n",
              "       'blackgram', 'pomegranate', 'blackgram', 'pigeonpeas', 'maize',\n",
              "       'banana', 'mothbeans', 'mango', 'lentil', 'maize', 'papaya',\n",
              "       'kidneybeans', 'jute', 'maize', 'lentil', 'apple', 'grapes',\n",
              "       'cotton', 'mango', 'jute', 'watermelon', 'papaya', 'coffee',\n",
              "       'mango', 'blackgram', 'coconut', 'blackgram', 'watermelon',\n",
              "       'maize', 'banana', 'pomegranate', 'muskmelon', 'kidneybeans',\n",
              "       'watermelon', 'papaya', 'kidneybeans', 'mango', 'blackgram',\n",
              "       'pomegranate', 'watermelon', 'chickpea', 'grapes', 'orange',\n",
              "       'jute', 'orange', 'kidneybeans', 'chickpea', 'blackgram',\n",
              "       'pigeonpeas', 'muskmelon', 'coconut', 'pigeonpeas', 'blackgram',\n",
              "       'maize', 'maize', 'coffee', 'maize', 'maize', 'blackgram',\n",
              "       'coconut', 'papaya', 'maize', 'grapes', 'cotton', 'lentil',\n",
              "       'banana', 'watermelon', 'mango', 'papaya', 'muskmelon',\n",
              "       'mothbeans', 'coconut', 'lentil', 'muskmelon', 'mungbean',\n",
              "       'blackgram', 'muskmelon', 'jute', 'mango', 'pigeonpeas', 'mango',\n",
              "       'kidneybeans', 'pomegranate', 'watermelon', 'apple', 'rice',\n",
              "       'coffee', 'coconut', 'coffee', 'maize', 'muskmelon', 'mungbean',\n",
              "       'lentil', 'watermelon', 'pigeonpeas', 'grapes', 'mango', 'jute',\n",
              "       'papaya', 'maize', 'chickpea', 'jute', 'maize', 'watermelon',\n",
              "       'jute', 'watermelon', 'banana', 'banana', 'grapes', 'jute',\n",
              "       'coconut', 'blackgram', 'mothbeans', 'coconut', 'muskmelon',\n",
              "       'coffee', 'apple', 'rice', 'mothbeans', 'apple', 'papaya',\n",
              "       'pomegranate', 'coconut', 'muskmelon', 'jute', 'banana', 'rice',\n",
              "       'mango', 'maize', 'mungbean', 'apple', 'mungbean', 'mungbean',\n",
              "       'cotton', 'coconut', 'pomegranate', 'maize', 'pigeonpeas',\n",
              "       'watermelon', 'coconut', 'watermelon', 'blackgram', 'rice', 'jute',\n",
              "       'rice', 'coffee', 'pomegranate', 'coconut', 'pigeonpeas',\n",
              "       'mothbeans', 'lentil', 'cotton', 'orange', 'rice', 'coffee',\n",
              "       'mothbeans', 'orange', 'pomegranate', 'chickpea', 'kidneybeans',\n",
              "       'blackgram', 'coffee', 'kidneybeans', 'rice', 'jute', 'mungbean',\n",
              "       'mungbean', 'maize', 'watermelon', 'orange', 'coffee', 'lentil',\n",
              "       'maize', 'kidneybeans', 'coconut', 'blackgram', 'chickpea',\n",
              "       'mungbean', 'mothbeans', 'pigeonpeas', 'pigeonpeas', 'orange',\n",
              "       'papaya', 'pomegranate', 'muskmelon', 'muskmelon', 'blackgram',\n",
              "       'maize', 'kidneybeans', 'chickpea', 'muskmelon', 'kidneybeans',\n",
              "       'grapes', 'pomegranate', 'coconut', 'rice', 'mungbean', 'orange',\n",
              "       'lentil', 'coconut', 'blackgram', 'grapes', 'coconut', 'rice',\n",
              "       'chickpea', 'mango', 'mango', 'mungbean', 'mungbean', 'muskmelon',\n",
              "       'papaya', 'papaya', 'papaya', 'mothbeans', 'banana', 'orange',\n",
              "       'banana', 'lentil', 'mango', 'lentil', 'orange', 'coffee',\n",
              "       'kidneybeans', 'grapes', 'maize', 'mango', 'watermelon',\n",
              "       'mungbean', 'mungbean', 'pomegranate', 'jute', 'chickpea',\n",
              "       'chickpea', 'jute', 'muskmelon', 'muskmelon', 'chickpea',\n",
              "       'kidneybeans', 'coffee', 'lentil', 'jute', 'mungbean', 'orange',\n",
              "       'mango', 'orange', 'mango', 'maize', 'muskmelon', 'pomegranate',\n",
              "       'mango', 'apple', 'coffee', 'grapes', 'muskmelon', 'pomegranate',\n",
              "       'jute', 'mango', 'muskmelon', 'chickpea', 'pigeonpeas', 'rice',\n",
              "       'kidneybeans', 'watermelon', 'banana', 'muskmelon', 'maize',\n",
              "       'banana', 'orange', 'cotton', 'cotton', 'coconut', 'rice', 'jute',\n",
              "       'muskmelon', 'coffee', 'pigeonpeas', 'rice', 'pomegranate',\n",
              "       'mungbean', 'apple', 'papaya', 'papaya', 'coffee', 'mothbeans',\n",
              "       'mungbean', 'cotton', 'jute', 'watermelon', 'muskmelon', 'coconut',\n",
              "       'apple', 'grapes', 'banana', 'coconut', 'maize', 'mango',\n",
              "       'kidneybeans', 'lentil', 'coffee', 'mungbean', 'muskmelon',\n",
              "       'coconut', 'coffee', 'pigeonpeas', 'orange', 'chickpea',\n",
              "       'watermelon', 'chickpea', 'mothbeans', 'pomegranate',\n",
              "       'pomegranate', 'orange', 'jute', 'mungbean', 'mango', 'grapes',\n",
              "       'maize', 'kidneybeans', 'rice', 'cotton', 'pomegranate', 'maize',\n",
              "       'coconut', 'coffee', 'rice', 'coconut', 'mango', 'orange', 'rice',\n",
              "       'cotton', 'rice', 'papaya', 'blackgram', 'mungbean', 'rice',\n",
              "       'jute', 'pomegranate', 'orange', 'coffee', 'pigeonpeas', 'coconut',\n",
              "       'mango', 'coconut', 'mungbean', 'cotton', 'blackgram', 'jute',\n",
              "       'banana', 'pigeonpeas', 'muskmelon', 'muskmelon', 'cotton',\n",
              "       'blackgram', 'blackgram', 'chickpea', 'coconut', 'watermelon',\n",
              "       'mungbean', 'papaya', 'papaya', 'maize', 'watermelon', 'coconut',\n",
              "       'pomegranate', 'cotton', 'orange', 'grapes', 'blackgram',\n",
              "       'pomegranate', 'blackgram', 'jute', 'blackgram', 'watermelon',\n",
              "       'banana', 'coffee', 'maize', 'pigeonpeas', 'blackgram', 'lentil',\n",
              "       'mango', 'cotton', 'coconut', 'grapes', 'chickpea', 'coconut',\n",
              "       'watermelon', 'kidneybeans', 'blackgram', 'blackgram', 'coffee',\n",
              "       'coconut', 'apple', 'muskmelon', 'chickpea', 'banana', 'orange'],\n",
              "      dtype=object)"
            ]
          },
          "metadata": {},
          "execution_count": 63
        }
      ]
    },
    {
      "cell_type": "code",
      "metadata": {
        "colab": {
          "base_uri": "https://localhost:8080/"
        },
        "id": "sXcpXafymPnx",
        "outputId": "fe3c34ac-885b-4730-d840-cb6b0d9bb79d"
      },
      "source": [
        "!pip install flask_ngrok"
      ],
      "execution_count": 64,
      "outputs": [
        {
          "output_type": "stream",
          "name": "stdout",
          "text": [
            "Requirement already satisfied: flask_ngrok in /usr/local/lib/python3.7/dist-packages (0.0.25)\n",
            "Requirement already satisfied: Flask>=0.8 in /usr/local/lib/python3.7/dist-packages (from flask_ngrok) (1.1.4)\n",
            "Requirement already satisfied: requests in /usr/local/lib/python3.7/dist-packages (from flask_ngrok) (2.23.0)\n",
            "Requirement already satisfied: itsdangerous<2.0,>=0.24 in /usr/local/lib/python3.7/dist-packages (from Flask>=0.8->flask_ngrok) (1.1.0)\n",
            "Requirement already satisfied: Werkzeug<2.0,>=0.15 in /usr/local/lib/python3.7/dist-packages (from Flask>=0.8->flask_ngrok) (1.0.1)\n",
            "Requirement already satisfied: click<8.0,>=5.1 in /usr/local/lib/python3.7/dist-packages (from Flask>=0.8->flask_ngrok) (7.1.2)\n",
            "Requirement already satisfied: Jinja2<3.0,>=2.10.1 in /usr/local/lib/python3.7/dist-packages (from Flask>=0.8->flask_ngrok) (2.11.3)\n",
            "Requirement already satisfied: MarkupSafe>=0.23 in /usr/local/lib/python3.7/dist-packages (from Jinja2<3.0,>=2.10.1->Flask>=0.8->flask_ngrok) (2.0.1)\n",
            "Requirement already satisfied: chardet<4,>=3.0.2 in /usr/local/lib/python3.7/dist-packages (from requests->flask_ngrok) (3.0.4)\n",
            "Requirement already satisfied: certifi>=2017.4.17 in /usr/local/lib/python3.7/dist-packages (from requests->flask_ngrok) (2021.10.8)\n",
            "Requirement already satisfied: urllib3!=1.25.0,!=1.25.1,<1.26,>=1.21.1 in /usr/local/lib/python3.7/dist-packages (from requests->flask_ngrok) (1.24.3)\n",
            "Requirement already satisfied: idna<3,>=2.5 in /usr/local/lib/python3.7/dist-packages (from requests->flask_ngrok) (2.10)\n"
          ]
        }
      ]
    },
    {
      "cell_type": "code",
      "metadata": {
        "colab": {
          "base_uri": "https://localhost:8080/"
        },
        "id": "RmqTSHe2kVr8",
        "outputId": "8001a2ec-5331-4b7b-bc4d-04191025c124"
      },
      "source": [
        "from sklearn.metrics import accuracy_score\n",
        "print(accuracy_score(Y_test,Y_pred))"
      ],
      "execution_count": 65,
      "outputs": [
        {
          "output_type": "stream",
          "name": "stdout",
          "text": [
            "0.975\n"
          ]
        }
      ]
    },
    {
      "cell_type": "code",
      "metadata": {
        "colab": {
          "base_uri": "https://localhost:8080/"
        },
        "id": "EDJ_XHWMmYox",
        "outputId": "286c8cf6-177f-46bb-9edd-7da139f01fa3"
      },
      "source": [
        "from flask import Flask,render_template,request\n",
        "from flask_ngrok import run_with_ngrok\n",
        "app = Flask(__name__)\n",
        "run_with_ngrok(app)\n",
        "@app.route('/')\n",
        "def mainpage():\n",
        "  return render_template(\"crop.html\")\n",
        "@app.route('/predict',methods=[\"POST\"])\n",
        "def collectdata():\n",
        "  o=[]\n",
        "  n=float(request.form[\"n\"])\n",
        "  p=float(request.form[\"p\"])\n",
        "  k=float(request.form[\"k\"])\n",
        "  temp = float(request.form[\"temp\"])\n",
        "  humidity=float(request.form[\"humidity\"])\n",
        "  ph = float(request.form[\"ph\"])\n",
        "  rainfall=float(request.form[\"rainfall\"])\n",
        "  pre = classifier.predict([[n,p,k,temp,humidity,ph,rainfall]])[0]\n",
        "  print(pre)\n",
        "  return render_template(\"crop.html\",predict = pre)\n",
        "\n",
        "\n",
        "\n",
        "\n",
        "if __name__ == \"__main__\":\n",
        "  app.run()"
      ],
      "execution_count": 76,
      "outputs": [
        {
          "output_type": "stream",
          "name": "stdout",
          "text": [
            " * Serving Flask app \"__main__\" (lazy loading)\n",
            " * Environment: production\n",
            "\u001b[31m   WARNING: This is a development server. Do not use it in a production deployment.\u001b[0m\n",
            "\u001b[2m   Use a production WSGI server instead.\u001b[0m\n",
            " * Debug mode: off\n"
          ]
        },
        {
          "output_type": "stream",
          "name": "stderr",
          "text": [
            " * Running on http://127.0.0.1:5000/ (Press CTRL+C to quit)\n"
          ]
        },
        {
          "output_type": "stream",
          "name": "stdout",
          "text": [
            " * Running on http://b1ce-34-140-76-87.ngrok.io\n",
            " * Traffic stats available on http://127.0.0.1:4040\n"
          ]
        },
        {
          "output_type": "stream",
          "name": "stderr",
          "text": [
            "127.0.0.1 - - [12/Nov/2021 11:13:17] \"\u001b[37mGET / HTTP/1.1\u001b[0m\" 200 -\n",
            "127.0.0.1 - - [12/Nov/2021 11:13:18] \"\u001b[33mGET /favicon.ico HTTP/1.1\u001b[0m\" 404 -\n"
          ]
        }
      ]
    }
  ]
}